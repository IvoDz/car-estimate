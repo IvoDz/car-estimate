{
 "cells": [
  {
   "cell_type": "code",
   "execution_count": 45,
   "id": "f8e8f631",
   "metadata": {},
   "outputs": [],
   "source": [
    "import pandas as pd\n",
    "import numpy as np\n",
    "from sklearn.model_selection import train_test_split\n",
    "from sklearn.linear_model import LinearRegression\n",
    "from sklearn.metrics import mean_squared_error\n",
    "from sklearn.preprocessing import StandardScaler\n",
    "import torch\n",
    "import torch.nn as nn\n",
    "import joblib\n",
    "import torch.optim as optim"
   ]
  },
  {
   "cell_type": "code",
   "execution_count": 46,
   "id": "c2df260a",
   "metadata": {},
   "outputs": [],
   "source": [
    "class NeuralNetwork(nn.Module):\n",
    "    def __init__(self, input_size, hidden_size, output_size):\n",
    "        super(NeuralNetwork, self).__init__()\n",
    "        self.fc1 = nn.Linear(input_size, hidden_size)\n",
    "        self.relu = nn.ReLU()\n",
    "        self.fc2 = nn.Linear(hidden_size, output_size)\n",
    "\n",
    "    def forward(self, x):\n",
    "        x = self.fc1(x)\n",
    "        x = self.relu(x)\n",
    "        x = self.fc2(x)\n",
    "        return x"
   ]
  },
  {
   "cell_type": "code",
   "execution_count": 47,
   "id": "aa428fe6",
   "metadata": {},
   "outputs": [],
   "source": [
    "def scale_numerical_input(year, mileage, scaler):\n",
    "    user_input = {\n",
    "        \"year\" : year,\n",
    "        \"mileage\" : mileage/1000\n",
    "    }\n",
    "    \n",
    "    input_df = pd.DataFrame([user_input])\n",
    "    input_df_scaled = pd.DataFrame(scaler.transform(input_df), columns=[\"year\", \"mileage\"])\n",
    "    res = input_df_scaled.to_numpy()\n",
    "    user_input[\"year\"], user_input[\"mileage\"] = res[0][0], res[0][1]\n",
    "    return user_input"
   ]
  },
  {
   "cell_type": "code",
   "execution_count": 48,
   "id": "9199105a",
   "metadata": {},
   "outputs": [],
   "source": [
    "def transform_raw_input_to_df(brand, model, engine, year, mileage, df, sc):\n",
    "    user_input = df.iloc[0].copy()\n",
    "    user_input.loc[:] = 0\n",
    "    user_input.drop('price', inplace=True)\n",
    "    \n",
    "    # Handling categoricals\n",
    "    user_input['brand_' + brand] = 1\n",
    "    user_input['model_' + model] = 1\n",
    "    user_input['engine_' + engine] = 1\n",
    "    \n",
    "    # Handling numericals \n",
    "    scaled_nums = scale_numerical_input(year, mileage, sc)\n",
    "    user_input[\"mileage\"] = scaled_nums[\"mileage\"]\n",
    "    user_input[\"year\"] = scaled_nums[\"year\"]\n",
    "    \n",
    "    return user_input"
   ]
  },
  {
   "cell_type": "code",
   "execution_count": 49,
   "id": "6f455404",
   "metadata": {},
   "outputs": [],
   "source": [
    "def init_model(weights, model_class):\n",
    "    input_size = 972\n",
    "    hidden_size = 128\n",
    "    output_size = 1  \n",
    "    model_eval = model_class(input_size, hidden_size, output_size)\n",
    "    state_dict = torch.load(weights)\n",
    "    model_eval.load_state_dict(state_dict)\n",
    "    return model_eval"
   ]
  },
  {
   "cell_type": "code",
   "execution_count": 50,
   "id": "d04a8477",
   "metadata": {},
   "outputs": [],
   "source": [
    "df_mean = pd.read_csv(\"data_cleaned_mean.csv\")\n",
    "sc_mean = joblib.load('scaler_mean.save')\n",
    "\n",
    "df_knn = pd.read_csv(\"data_cleaned_knn.csv\")\n",
    "sc_knn = joblib.load('scaler_knn.save')\n",
    "\n",
    "df_median = pd.read_csv(\"data_cleaned_median.csv\")\n",
    "sc_median = joblib.load('scaler_median.save')\n",
    "\n",
    "df_most_freq = pd.read_csv(\"data_cleaned_most_freq.csv\")\n",
    "sc_most_freq = joblib.load('scaler_most_freq.save')"
   ]
  },
  {
   "cell_type": "code",
   "execution_count": 51,
   "id": "f083f40b",
   "metadata": {},
   "outputs": [],
   "source": [
    "model = init_model('model_v_0.0.1_knn.pth', NeuralNetwork)"
   ]
  },
  {
   "cell_type": "code",
   "execution_count": 39,
   "id": "d609f31e",
   "metadata": {},
   "outputs": [],
   "source": [
    "data = transform_raw_input_to_df(\"Toyota\", \"Avensis\", \"2.0D\", 2007, 332000, df_knn, sc_knn)\n",
    "\n",
    "model.eval()\n",
    "\n",
    "with torch.no_grad():\n",
    "    inputs = torch.tensor(data, dtype=torch.float32)\n",
    "    predictions = model(inputs).numpy()\n",
    "    predict "
   ]
  },
  {
   "cell_type": "code",
   "execution_count": 40,
   "id": "9d75caab",
   "metadata": {},
   "outputs": [
    {
     "data": {
      "text/plain": [
       "array([3400.8894], dtype=float32)"
      ]
     },
     "execution_count": 40,
     "metadata": {},
     "output_type": "execute_result"
    }
   ],
   "source": [
    "predictions"
   ]
  },
  {
   "cell_type": "code",
   "execution_count": 68,
   "id": "ac2816f3",
   "metadata": {},
   "outputs": [],
   "source": [
    "target_column = 'price'\n",
    "\n",
    "X = df_median.drop(columns=[target_column]).values\n",
    "y = df_median[target_column].values.reshape(-1, 1)\n",
    "\n",
    "X_train, X_test, y_train, y_test = train_test_split(X, y, test_size=0.2, random_state=42)\n",
    "\n",
    "X_test_tensor = torch.Tensor(X_test)\n",
    "y_test_tensor = torch.Tensor(y_test)\n",
    "\n",
    "test_dataset = TensorDataset(X_test_tensor, y_test_tensor)\n",
    "\n",
    "batch_size = 64 \n",
    "test_data_loader = DataLoader(test_dataset, batch_size=batch_size, shuffle=True)"
   ]
  },
  {
   "cell_type": "code",
   "execution_count": 69,
   "id": "6ebda27d",
   "metadata": {},
   "outputs": [
    {
     "name": "stdout",
     "output_type": "stream",
     "text": [
      "Overall Mean Squared Error on Test Set: 26190218.0000\n"
     ]
    }
   ],
   "source": [
    "model = init_model('model_v_0.0.1_median.pth', NeuralNetwork)\n",
    "optimizer = torch.optim.Adam(model.parameters(), lr=0.001)\n",
    "criterion = nn.MSELoss()\n",
    "\n",
    "model.eval()\n",
    "\n",
    "all_predictions = []\n",
    "all_actuals = []\n",
    "\n",
    "with torch.no_grad():\n",
    "    for inputs, actuals in test_data_loader:\n",
    "        predictions = model(inputs)\n",
    "        mse = criterion(predictions, actuals)\n",
    "        all_predictions.append(predictions.numpy())\n",
    "        all_actuals.append(actuals.numpy())\n",
    "\n",
    "all_predictions = np.concatenate(all_predictions)\n",
    "all_actuals = np.concatenate(all_actuals)\n",
    "\n",
    "overall_mse = nn.MSELoss()(torch.Tensor(all_predictions), torch.Tensor(all_actuals))\n",
    "print(f'Overall Mean Squared Error on Test Set: {overall_mse.item():.4f}')"
   ]
  },
  {
   "cell_type": "code",
   "execution_count": null,
   "id": "dc32d7ba",
   "metadata": {},
   "outputs": [],
   "source": [
    "# MEAN  => 24973720.0000\n",
    "# KNN => 25123904.0000"
   ]
  }
 ],
 "metadata": {
  "kernelspec": {
   "display_name": "venv",
   "language": "python",
   "name": "venv"
  },
  "language_info": {
   "codemirror_mode": {
    "name": "ipython",
    "version": 3
   },
   "file_extension": ".py",
   "mimetype": "text/x-python",
   "name": "python",
   "nbconvert_exporter": "python",
   "pygments_lexer": "ipython3",
   "version": "3.11.5"
  }
 },
 "nbformat": 4,
 "nbformat_minor": 5
}
