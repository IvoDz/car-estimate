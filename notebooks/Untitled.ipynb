{
 "cells": [
  {
   "cell_type": "code",
   "execution_count": 25,
   "id": "abe563b9",
   "metadata": {},
   "outputs": [],
   "source": [
    "from catboost import CatBoostRegressor\n",
    "import pandas as pd\n",
    "from sklearn.model_selection import train_test_split\n",
    "from sklearn.metrics import mean_squared_error\n",
    "from math import sqrt"
   ]
  },
  {
   "cell_type": "code",
   "execution_count": 26,
   "id": "1424cb38",
   "metadata": {},
   "outputs": [],
   "source": [
    "df = pd.read_csv(\"../data/cleaned_data.csv\")"
   ]
  },
  {
   "cell_type": "code",
   "execution_count": 27,
   "id": "d71a3441",
   "metadata": {},
   "outputs": [],
   "source": [
    "model = CatBoostRegressor(iterations=100,  \n",
    "                          depth=10,         \n",
    "                          learning_rate=0.2,  \n",
    "                         loss_function='RMSE')  "
   ]
  },
  {
   "cell_type": "code",
   "execution_count": 28,
   "id": "68abbffd",
   "metadata": {},
   "outputs": [],
   "source": [
    "X = df.drop(columns = 'price')\n",
    "y = df['price']\n",
    "\n",
    "X_train, X_test, y_train, y_test = train_test_split(X, y, test_size=0.2, random_state=105)"
   ]
  },
  {
   "cell_type": "code",
   "execution_count": 29,
   "id": "0d36bff7",
   "metadata": {},
   "outputs": [
    {
     "name": "stdout",
     "output_type": "stream",
     "text": [
      "0:\tlearn: 11349.0709498\ttotal: 2.92ms\tremaining: 289ms\n",
      "1:\tlearn: 10043.1506728\ttotal: 16.5ms\tremaining: 806ms\n",
      "2:\tlearn: 8998.6226032\ttotal: 29ms\tremaining: 937ms\n",
      "3:\tlearn: 8194.7904943\ttotal: 41.8ms\tremaining: 1s\n",
      "4:\tlearn: 7540.5763045\ttotal: 54.8ms\tremaining: 1.04s\n",
      "5:\tlearn: 7062.7015097\ttotal: 66.6ms\tremaining: 1.04s\n",
      "6:\tlearn: 6697.5897281\ttotal: 80.9ms\tremaining: 1.07s\n",
      "7:\tlearn: 6387.8397924\ttotal: 92.7ms\tremaining: 1.07s\n",
      "8:\tlearn: 6154.0918609\ttotal: 105ms\tremaining: 1.06s\n",
      "9:\tlearn: 5925.4892654\ttotal: 117ms\tremaining: 1.06s\n",
      "10:\tlearn: 5747.8209895\ttotal: 131ms\tremaining: 1.06s\n",
      "11:\tlearn: 5597.4212891\ttotal: 143ms\tremaining: 1.05s\n",
      "12:\tlearn: 5478.4410163\ttotal: 156ms\tremaining: 1.04s\n",
      "13:\tlearn: 5375.1548224\ttotal: 169ms\tremaining: 1.04s\n",
      "14:\tlearn: 5277.9022768\ttotal: 181ms\tremaining: 1.02s\n",
      "15:\tlearn: 5187.1325986\ttotal: 194ms\tremaining: 1.02s\n",
      "16:\tlearn: 5093.6775529\ttotal: 206ms\tremaining: 1s\n",
      "17:\tlearn: 5034.3874279\ttotal: 219ms\tremaining: 997ms\n",
      "18:\tlearn: 4953.2635531\ttotal: 232ms\tremaining: 989ms\n",
      "19:\tlearn: 4878.7576362\ttotal: 245ms\tremaining: 979ms\n",
      "20:\tlearn: 4822.1962424\ttotal: 258ms\tremaining: 970ms\n",
      "21:\tlearn: 4759.0763116\ttotal: 271ms\tremaining: 960ms\n",
      "22:\tlearn: 4707.3491101\ttotal: 284ms\tremaining: 950ms\n",
      "23:\tlearn: 4663.2324385\ttotal: 296ms\tremaining: 937ms\n",
      "24:\tlearn: 4612.2235205\ttotal: 309ms\tremaining: 926ms\n",
      "25:\tlearn: 4568.4744593\ttotal: 321ms\tremaining: 913ms\n",
      "26:\tlearn: 4552.7894328\ttotal: 333ms\tremaining: 902ms\n",
      "27:\tlearn: 4537.9890856\ttotal: 345ms\tremaining: 888ms\n",
      "28:\tlearn: 4491.9140916\ttotal: 357ms\tremaining: 875ms\n",
      "29:\tlearn: 4476.1687341\ttotal: 370ms\tremaining: 864ms\n",
      "30:\tlearn: 4442.6501365\ttotal: 382ms\tremaining: 851ms\n",
      "31:\tlearn: 4402.2016646\ttotal: 395ms\tremaining: 840ms\n",
      "32:\tlearn: 4390.3477603\ttotal: 407ms\tremaining: 826ms\n",
      "33:\tlearn: 4354.2308906\ttotal: 420ms\tremaining: 816ms\n",
      "34:\tlearn: 4340.7828058\ttotal: 433ms\tremaining: 805ms\n",
      "35:\tlearn: 4305.5544116\ttotal: 446ms\tremaining: 793ms\n",
      "36:\tlearn: 4275.1554863\ttotal: 458ms\tremaining: 780ms\n",
      "37:\tlearn: 4242.4773872\ttotal: 471ms\tremaining: 768ms\n",
      "38:\tlearn: 4211.3868624\ttotal: 483ms\tremaining: 756ms\n",
      "39:\tlearn: 4178.3439304\ttotal: 495ms\tremaining: 743ms\n",
      "40:\tlearn: 4157.9693382\ttotal: 508ms\tremaining: 731ms\n",
      "41:\tlearn: 4149.7780320\ttotal: 520ms\tremaining: 718ms\n",
      "42:\tlearn: 4124.8911851\ttotal: 533ms\tremaining: 706ms\n",
      "43:\tlearn: 4106.9539789\ttotal: 545ms\tremaining: 693ms\n",
      "44:\tlearn: 4088.1258228\ttotal: 558ms\tremaining: 682ms\n",
      "45:\tlearn: 4070.7123234\ttotal: 571ms\tremaining: 670ms\n",
      "46:\tlearn: 4063.6766667\ttotal: 582ms\tremaining: 657ms\n",
      "47:\tlearn: 4055.0218448\ttotal: 595ms\tremaining: 645ms\n",
      "48:\tlearn: 4030.6025601\ttotal: 608ms\tremaining: 632ms\n",
      "49:\tlearn: 4006.7954860\ttotal: 621ms\tremaining: 621ms\n",
      "50:\tlearn: 4000.7658370\ttotal: 634ms\tremaining: 609ms\n",
      "51:\tlearn: 3971.3862752\ttotal: 647ms\tremaining: 597ms\n",
      "52:\tlearn: 3948.5801248\ttotal: 660ms\tremaining: 585ms\n",
      "53:\tlearn: 3920.7446262\ttotal: 672ms\tremaining: 572ms\n",
      "54:\tlearn: 3912.6394947\ttotal: 685ms\tremaining: 560ms\n",
      "55:\tlearn: 3893.1049485\ttotal: 698ms\tremaining: 548ms\n",
      "56:\tlearn: 3880.4206102\ttotal: 711ms\tremaining: 536ms\n",
      "57:\tlearn: 3875.4014546\ttotal: 722ms\tremaining: 523ms\n",
      "58:\tlearn: 3854.1469538\ttotal: 735ms\tremaining: 510ms\n",
      "59:\tlearn: 3832.3804145\ttotal: 748ms\tremaining: 498ms\n",
      "60:\tlearn: 3814.9228747\ttotal: 760ms\tremaining: 486ms\n",
      "61:\tlearn: 3810.3253479\ttotal: 772ms\tremaining: 473ms\n",
      "62:\tlearn: 3789.7744493\ttotal: 784ms\tremaining: 461ms\n",
      "63:\tlearn: 3778.7950085\ttotal: 797ms\tremaining: 448ms\n",
      "64:\tlearn: 3761.8074578\ttotal: 809ms\tremaining: 436ms\n",
      "65:\tlearn: 3742.7248287\ttotal: 823ms\tremaining: 424ms\n",
      "66:\tlearn: 3738.2746060\ttotal: 835ms\tremaining: 411ms\n",
      "67:\tlearn: 3728.0470285\ttotal: 847ms\tremaining: 399ms\n",
      "68:\tlearn: 3709.4569323\ttotal: 859ms\tremaining: 386ms\n",
      "69:\tlearn: 3690.4011971\ttotal: 872ms\tremaining: 374ms\n",
      "70:\tlearn: 3680.1582620\ttotal: 884ms\tremaining: 361ms\n",
      "71:\tlearn: 3674.6151791\ttotal: 897ms\tremaining: 349ms\n",
      "72:\tlearn: 3661.3241093\ttotal: 909ms\tremaining: 336ms\n",
      "73:\tlearn: 3647.9194009\ttotal: 921ms\tremaining: 323ms\n",
      "74:\tlearn: 3644.5851703\ttotal: 933ms\tremaining: 311ms\n",
      "75:\tlearn: 3626.7192704\ttotal: 946ms\tremaining: 299ms\n",
      "76:\tlearn: 3616.7708947\ttotal: 957ms\tremaining: 286ms\n",
      "77:\tlearn: 3595.0155912\ttotal: 970ms\tremaining: 274ms\n",
      "78:\tlearn: 3579.3145416\ttotal: 982ms\tremaining: 261ms\n",
      "79:\tlearn: 3575.9408017\ttotal: 995ms\tremaining: 249ms\n",
      "80:\tlearn: 3560.3834270\ttotal: 1.01s\tremaining: 236ms\n",
      "81:\tlearn: 3545.2891636\ttotal: 1.02s\tremaining: 224ms\n",
      "82:\tlearn: 3526.9712240\ttotal: 1.03s\tremaining: 212ms\n",
      "83:\tlearn: 3516.9310785\ttotal: 1.05s\tremaining: 199ms\n",
      "84:\tlearn: 3494.9477176\ttotal: 1.06s\tremaining: 187ms\n",
      "85:\tlearn: 3485.1529515\ttotal: 1.08s\tremaining: 176ms\n",
      "86:\tlearn: 3482.2235862\ttotal: 1.09s\tremaining: 164ms\n",
      "87:\tlearn: 3468.3015416\ttotal: 1.11s\tremaining: 151ms\n",
      "88:\tlearn: 3461.1037117\ttotal: 1.12s\tremaining: 139ms\n",
      "89:\tlearn: 3452.1412961\ttotal: 1.14s\tremaining: 126ms\n",
      "90:\tlearn: 3449.1817144\ttotal: 1.15s\tremaining: 113ms\n",
      "91:\tlearn: 3443.1840935\ttotal: 1.16s\tremaining: 101ms\n",
      "92:\tlearn: 3430.9792655\ttotal: 1.17s\tremaining: 88.3ms\n",
      "93:\tlearn: 3417.9251494\ttotal: 1.19s\tremaining: 75.6ms\n",
      "94:\tlearn: 3408.7300805\ttotal: 1.2s\tremaining: 63.1ms\n",
      "95:\tlearn: 3405.5561126\ttotal: 1.21s\tremaining: 50.5ms\n",
      "96:\tlearn: 3398.4029589\ttotal: 1.22s\tremaining: 37.8ms\n",
      "97:\tlearn: 3382.6631041\ttotal: 1.24s\tremaining: 25.2ms\n",
      "98:\tlearn: 3376.6703126\ttotal: 1.25s\tremaining: 12.6ms\n",
      "99:\tlearn: 3358.0780468\ttotal: 1.26s\tremaining: 0us\n"
     ]
    },
    {
     "data": {
      "text/plain": [
       "<catboost.core.CatBoostRegressor at 0x7f2a9f9f5890>"
      ]
     },
     "execution_count": 29,
     "metadata": {},
     "output_type": "execute_result"
    }
   ],
   "source": [
    "model.fit(X_train, y_train)"
   ]
  },
  {
   "cell_type": "code",
   "execution_count": 30,
   "id": "4469155f",
   "metadata": {},
   "outputs": [],
   "source": [
    "y_pred = model.predict(X_test)"
   ]
  },
  {
   "cell_type": "code",
   "execution_count": 31,
   "id": "0de80ff7",
   "metadata": {},
   "outputs": [],
   "source": [
    "mse = mean_squared_error(y_test, y_pred)"
   ]
  },
  {
   "cell_type": "code",
   "execution_count": 32,
   "id": "ea71c3ed",
   "metadata": {},
   "outputs": [
    {
     "data": {
      "text/plain": [
       "4409.546675513716"
      ]
     },
     "execution_count": 32,
     "metadata": {},
     "output_type": "execute_result"
    }
   ],
   "source": [
    "sqrt(mse)"
   ]
  },
  {
   "cell_type": "code",
   "execution_count": null,
   "id": "866316ae",
   "metadata": {},
   "outputs": [],
   "source": []
  }
 ],
 "metadata": {
  "kernelspec": {
   "display_name": "venv",
   "language": "python",
   "name": "venv"
  },
  "language_info": {
   "codemirror_mode": {
    "name": "ipython",
    "version": 3
   },
   "file_extension": ".py",
   "mimetype": "text/x-python",
   "name": "python",
   "nbconvert_exporter": "python",
   "pygments_lexer": "ipython3",
   "version": "3.11.5"
  }
 },
 "nbformat": 4,
 "nbformat_minor": 5
}
