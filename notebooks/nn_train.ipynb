{
 "cells": [
  {
   "cell_type": "code",
   "execution_count": 10,
   "id": "4cd770d0",
   "metadata": {},
   "outputs": [],
   "source": [
    "import pandas as pd\n",
    "import numpy as np\n",
    "from sklearn.model_selection import train_test_split\n",
    "from sklearn.linear_model import LinearRegression\n",
    "from sklearn.metrics import mean_squared_error\n",
    "from sklearn.preprocessing import StandardScaler\n",
    "import torch\n",
    "import torch.nn as nn\n",
    "import joblib\n",
    "import torch.optim as optim\n",
    "from utils import train_and_get_losses, plot_learning_curve\n",
    "from math import sqrt"
   ]
  },
  {
   "cell_type": "code",
   "execution_count": 3,
   "id": "24a137b4",
   "metadata": {},
   "outputs": [],
   "source": [
    "df = pd.read_csv(\"../data/cleaned_data.csv\")\n",
    "scaler = joblib.load(\"../scalers/minmax.save\")"
   ]
  },
  {
   "cell_type": "markdown",
   "id": "489a0075",
   "metadata": {},
   "source": [
    "## Splitting data, converting to tensors"
   ]
  },
  {
   "cell_type": "code",
   "execution_count": 4,
   "id": "6992715b",
   "metadata": {},
   "outputs": [
    {
     "name": "stderr",
     "output_type": "stream",
     "text": [
      "/tmp/ipykernel_4882/3186168220.py:12: UserWarning: To copy construct from a tensor, it is recommended to use sourceTensor.clone().detach() or sourceTensor.clone().detach().requires_grad_(True), rather than torch.tensor(sourceTensor).\n",
      "  X_train = torch.tensor(X_train, dtype=torch.float32)\n",
      "/tmp/ipykernel_4882/3186168220.py:13: UserWarning: To copy construct from a tensor, it is recommended to use sourceTensor.clone().detach() or sourceTensor.clone().detach().requires_grad_(True), rather than torch.tensor(sourceTensor).\n",
      "  X_test = torch.tensor(X_test, dtype=torch.float32)\n"
     ]
    }
   ],
   "source": [
    "bool_columns = df.select_dtypes(include='bool').columns\n",
    "df[bool_columns] = df[bool_columns].astype(int)\n",
    "\n",
    "X = df.drop('price', axis=1).values \n",
    "y = df['price'].values\n",
    "\n",
    "X = torch.tensor(X, dtype=torch.float32)\n",
    "y = torch.tensor(y, dtype=torch.float32)\n",
    "\n",
    "X_train, X_test, y_train, y_test = train_test_split(X, y, test_size=0.2, random_state=42)\n",
    "\n",
    "X_train = torch.tensor(X_train, dtype=torch.float32)\n",
    "X_test = torch.tensor(X_test, dtype=torch.float32)"
   ]
  },
  {
   "cell_type": "markdown",
   "id": "e28f33c4",
   "metadata": {},
   "source": [
    "## Defining model architecture"
   ]
  },
  {
   "cell_type": "code",
   "execution_count": 5,
   "id": "60846252",
   "metadata": {},
   "outputs": [],
   "source": [
    "class NeuralNetwork1(nn.Module):\n",
    "    def __init__(self, input_size, hidden_size, output_size):\n",
    "        super(NeuralNetwork1, self).__init__()\n",
    "        self.fc1 = nn.Linear(input_size, hidden_size)\n",
    "        self.relu1 = nn.ReLU()\n",
    "        self.fc2 = nn.Linear(hidden_size, hidden_size)\n",
    "        self.relu2 = nn.ReLU()\n",
    "        self.fc3 = nn.Linear(hidden_size, output_size)\n",
    "        \n",
    "    def forward(self, x):\n",
    "        x = self.fc1(x)\n",
    "        x = self.relu1(x)\n",
    "        x = self.fc2(x)\n",
    "        x = self.relu2(x)\n",
    "        x = self.fc3(x)\n",
    "        return x\n",
    "    \n",
    "class NeuralNetwork2(nn.Module):\n",
    "    def __init__(self, input_size, hidden_size, output_size):\n",
    "        super(NeuralNetwork2, self).__init__()\n",
    "        self.fc1 = nn.Linear(input_size, hidden_size)\n",
    "        self.relu1 = nn.ReLU()\n",
    "        self.fc2 = nn.Linear(hidden_size, output_size)\n",
    "        \n",
    "    def forward(self, x):\n",
    "        x = self.fc1(x)\n",
    "        x = self.relu1(x)\n",
    "        x = self.fc2(x)\n",
    "        return x"
   ]
  },
  {
   "cell_type": "markdown",
   "id": "d69ea38e",
   "metadata": {},
   "source": [
    "## Initializing the model"
   ]
  },
  {
   "cell_type": "code",
   "execution_count": 6,
   "id": "e8cf27e6",
   "metadata": {},
   "outputs": [],
   "source": [
    "input_size = X_train.shape[1]\n",
    "hidden_size = 128\n",
    "output_size = 1  \n",
    "\n",
    "model = NeuralNetwork1(input_size, hidden_size, output_size)"
   ]
  },
  {
   "cell_type": "code",
   "execution_count": 7,
   "id": "2d31025c",
   "metadata": {},
   "outputs": [],
   "source": [
    "model = NeuralNetwork2(input_size, hidden_size, output_size)"
   ]
  },
  {
   "cell_type": "markdown",
   "id": "f19d3387",
   "metadata": {},
   "source": [
    "## Hyperparameters"
   ]
  },
  {
   "cell_type": "code",
   "execution_count": 8,
   "id": "3170e83d",
   "metadata": {},
   "outputs": [],
   "source": [
    "learning_rate = 0.004\n",
    "criterion = nn.MSELoss() \n",
    "optimizer = optim.Adam(model.parameters(), lr=learning_rate) \n",
    "\n",
    "num_epochs = 100\n",
    "batch_size = 32\n",
    "train_losses = [] \n",
    "test_losses = []  "
   ]
  },
  {
   "cell_type": "markdown",
   "id": "daf27461",
   "metadata": {},
   "source": [
    "## Training loop + eval"
   ]
  },
  {
   "cell_type": "code",
   "execution_count": 11,
   "id": "25450533",
   "metadata": {},
   "outputs": [
    {
     "name": "stdout",
     "output_type": "stream",
     "text": [
      "Epoch [1/100], Training Loss: 491052.0969655234, Test Loss: 18672136.0\n",
      "Epoch [2/100], Training Loss: 487559.3987545169, Test Loss: 18574988.0\n",
      "Epoch [3/100], Training Loss: 484135.5487900598, Test Loss: 18479642.0\n",
      "Epoch [4/100], Training Loss: 480801.4097802263, Test Loss: 18389318.0\n",
      "Epoch [5/100], Training Loss: 477528.1247334281, Test Loss: 18300152.0\n",
      "Epoch [6/100], Training Loss: 474328.2147532729, Test Loss: 18218262.0\n",
      "Epoch [7/100], Training Loss: 471187.35348172503, Test Loss: 18131248.0\n",
      "Epoch [8/100], Training Loss: 468110.31100793794, Test Loss: 18053026.0\n",
      "Epoch [9/100], Training Loss: 465088.11595136544, Test Loss: 17972568.0\n",
      "Epoch [10/100], Training Loss: 462135.5946922576, Test Loss: 17899206.0\n",
      "Epoch [11/100], Training Loss: 459228.54234050115, Test Loss: 17824552.0\n",
      "Epoch [12/100], Training Loss: 456388.01785291155, Test Loss: 17757568.0\n",
      "Epoch [13/100], Training Loss: 453591.4684778745, Test Loss: 17686360.0\n",
      "Epoch [14/100], Training Loss: 450855.9832948285, Test Loss: 17623552.0\n",
      "Epoch [15/100], Training Loss: 448164.8569693738, Test Loss: 17556470.0\n",
      "Epoch [16/100], Training Loss: 445528.21530122624, Test Loss: 17496874.0\n",
      "Epoch [17/100], Training Loss: 442937.6339153486, Test Loss: 17433778.0\n",
      "Epoch [18/100], Training Loss: 440396.0091300871, Test Loss: 17378952.0\n",
      "Epoch [19/100], Training Loss: 437897.34644718916, Test Loss: 17318836.0\n",
      "Epoch [20/100], Training Loss: 435450.02202179964, Test Loss: 17266912.0\n",
      "Epoch [21/100], Training Loss: 433036.7723550145, Test Loss: 17210854.0\n",
      "Epoch [22/100], Training Loss: 430682.95938481134, Test Loss: 17163310.0\n",
      "Epoch [23/100], Training Loss: 428358.947996268, Test Loss: 17108792.0\n",
      "Epoch [24/100], Training Loss: 426074.848587169, Test Loss: 17063298.0\n",
      "Epoch [25/100], Training Loss: 423825.1183801315, Test Loss: 17012902.0\n",
      "Epoch [26/100], Training Loss: 421621.2587302292, Test Loss: 16970776.0\n",
      "Epoch [27/100], Training Loss: 419452.6846750785, Test Loss: 16923222.0\n",
      "Epoch [28/100], Training Loss: 417325.1179210355, Test Loss: 16884010.0\n",
      "Epoch [29/100], Training Loss: 415224.79513950594, Test Loss: 16839334.0\n",
      "Epoch [30/100], Training Loss: 413168.5222217286, Test Loss: 16802566.0\n",
      "Epoch [31/100], Training Loss: 411136.61518867366, Test Loss: 16760230.0\n",
      "Epoch [32/100], Training Loss: 409141.922338724, Test Loss: 16726022.0\n",
      "Epoch [33/100], Training Loss: 407185.83796131745, Test Loss: 16686302.0\n",
      "Epoch [34/100], Training Loss: 405258.31959747645, Test Loss: 16654404.0\n",
      "Epoch [35/100], Training Loss: 403361.2184778745, Test Loss: 16615934.0\n",
      "Epoch [36/100], Training Loss: 401494.4574151413, Test Loss: 16584823.0\n",
      "Epoch [37/100], Training Loss: 399649.3822418696, Test Loss: 16549800.0\n",
      "Epoch [38/100], Training Loss: 397837.8079867899, Test Loss: 16510806.0\n",
      "Epoch [39/100], Training Loss: 396037.3522155086, Test Loss: 16482417.0\n",
      "Epoch [40/100], Training Loss: 394270.1922871868, Test Loss: 16453123.0\n",
      "Epoch [41/100], Training Loss: 392517.6543895504, Test Loss: 16420615.0\n",
      "Epoch [42/100], Training Loss: 390784.1735012736, Test Loss: 16390102.0\n",
      "Epoch [43/100], Training Loss: 389075.97680824593, Test Loss: 16359430.0\n",
      "Epoch [44/100], Training Loss: 387382.5412371897, Test Loss: 16324810.0\n",
      "Epoch [45/100], Training Loss: 385708.2654685741, Test Loss: 16296704.0\n",
      "Epoch [46/100], Training Loss: 384058.19453083345, Test Loss: 16264511.0\n",
      "Epoch [47/100], Training Loss: 382425.3565917303, Test Loss: 16231559.0\n",
      "Epoch [48/100], Training Loss: 380820.9545568983, Test Loss: 16214021.0\n",
      "Epoch [49/100], Training Loss: 379229.82394407917, Test Loss: 16168654.0\n",
      "Epoch [50/100], Training Loss: 377667.1069545643, Test Loss: 16153428.0\n",
      "Epoch [51/100], Training Loss: 376116.5179639832, Test Loss: 16111877.0\n",
      "Epoch [52/100], Training Loss: 374594.7693782951, Test Loss: 16094140.0\n",
      "Epoch [53/100], Training Loss: 373086.39405988983, Test Loss: 16057495.0\n",
      "Epoch [54/100], Training Loss: 371603.84120460873, Test Loss: 16033957.0\n",
      "Epoch [55/100], Training Loss: 370135.598587169, Test Loss: 16010796.0\n",
      "Epoch [56/100], Training Loss: 368692.06017860316, Test Loss: 15980090.0\n",
      "Epoch [57/100], Training Loss: 367261.78951557964, Test Loss: 15956795.0\n",
      "Epoch [58/100], Training Loss: 365853.9533425153, Test Loss: 15924804.0\n",
      "Epoch [59/100], Training Loss: 364462.7769941058, Test Loss: 15905062.0\n",
      "Epoch [60/100], Training Loss: 363104.8029663527, Test Loss: 15876593.0\n",
      "Epoch [61/100], Training Loss: 361748.41570034355, Test Loss: 15852246.0\n",
      "Epoch [62/100], Training Loss: 360414.4128495054, Test Loss: 15832506.0\n",
      "Epoch [63/100], Training Loss: 359096.12891712575, Test Loss: 15794325.0\n",
      "Epoch [64/100], Training Loss: 357802.3234368521, Test Loss: 15787635.0\n",
      "Epoch [65/100], Training Loss: 356515.0825854511, Test Loss: 15753647.0\n",
      "Epoch [66/100], Training Loss: 355257.2361086428, Test Loss: 15742656.0\n",
      "Epoch [67/100], Training Loss: 354017.4144896629, Test Loss: 15710329.0\n",
      "Epoch [68/100], Training Loss: 352790.3094048042, Test Loss: 15695389.0\n",
      "Epoch [69/100], Training Loss: 351576.69424204726, Test Loss: 15673173.0\n",
      "Epoch [70/100], Training Loss: 350382.8765624074, Test Loss: 15642949.0\n",
      "Epoch [71/100], Training Loss: 349198.2550130324, Test Loss: 15628586.0\n",
      "Epoch [72/100], Training Loss: 348043.83898317633, Test Loss: 15607010.0\n",
      "Epoch [73/100], Training Loss: 346901.96667110955, Test Loss: 15584891.0\n",
      "Epoch [74/100], Training Loss: 345774.0795272792, Test Loss: 15567018.0\n",
      "Epoch [75/100], Training Loss: 344669.11988330074, Test Loss: 15537156.0\n",
      "Epoch [76/100], Training Loss: 343574.23281722056, Test Loss: 15532913.0\n",
      "Epoch [77/100], Training Loss: 342496.73252102954, Test Loss: 15502239.0\n",
      "Epoch [78/100], Training Loss: 341432.6246149517, Test Loss: 15489900.0\n",
      "Epoch [79/100], Training Loss: 340378.7089146081, Test Loss: 15464496.0\n",
      "Epoch [80/100], Training Loss: 339346.5432623956, Test Loss: 15441847.0\n",
      "Epoch [81/100], Training Loss: 338314.41794399027, Test Loss: 15434410.0\n",
      "Epoch [82/100], Training Loss: 337307.3026257331, Test Loss: 15410178.0\n",
      "Epoch [83/100], Training Loss: 336307.95474572, Test Loss: 15395594.0\n",
      "Epoch [84/100], Training Loss: 335331.47086591437, Test Loss: 15374549.0\n",
      "Epoch [85/100], Training Loss: 334359.2902893786, Test Loss: 15357957.0\n",
      "Epoch [86/100], Training Loss: 333411.28085199336, Test Loss: 15343457.0\n",
      "Epoch [87/100], Training Loss: 332474.0488344885, Test Loss: 15311642.0\n",
      "Epoch [88/100], Training Loss: 331548.80641697766, Test Loss: 15313400.0\n",
      "Epoch [89/100], Training Loss: 330636.48925567203, Test Loss: 15286410.0\n",
      "Epoch [90/100], Training Loss: 329746.3354214798, Test Loss: 15279041.0\n",
      "Epoch [91/100], Training Loss: 328858.3831267401, Test Loss: 15251976.0\n",
      "Epoch [92/100], Training Loss: 327979.38469284994, Test Loss: 15243326.0\n",
      "Epoch [93/100], Training Loss: 327121.58181905694, Test Loss: 15229661.0\n",
      "Epoch [94/100], Training Loss: 326275.07568420115, Test Loss: 15203216.0\n",
      "Epoch [95/100], Training Loss: 325431.44799256563, Test Loss: 15197344.0\n",
      "Epoch [96/100], Training Loss: 324613.36810615484, Test Loss: 15179315.0\n",
      "Epoch [97/100], Training Loss: 323799.95665615186, Test Loss: 15165429.0\n",
      "Epoch [98/100], Training Loss: 322997.2041200166, Test Loss: 15154182.0\n",
      "Epoch [99/100], Training Loss: 322204.7305143356, Test Loss: 15129011.0\n",
      "Epoch [100/100], Training Loss: 321420.19885151944, Test Loss: 15131258.0\n",
      "Train RMSE : 566.939325546852, Test RMSE : 3889.891772273362\n"
     ]
    },
    {
     "data": {
      "image/png": "[encoded data removed]",
      "text/plain": [
       "<Figure size 800x600 with 1 Axes>"
      ]
     },
     "metadata": {},
     "output_type": "display_data"
    }
   ],
   "source": [
    "for epoch in range(num_epochs):\n",
    "    epoch_loss = 0.0\n",
    "    for i in range(0, len(X_train), batch_size):\n",
    "        batch_X = X_train[i:i+batch_size]\n",
    "        batch_y = y_train[i:i+batch_size]\n",
    "\n",
    "        optimizer.zero_grad()  \n",
    "        outputs = model(batch_X)  \n",
    "        loss = criterion(outputs, batch_y.view(-1, 1)) \n",
    "\n",
    "        loss.backward()  \n",
    "        optimizer.step() \n",
    "\n",
    "        epoch_loss += loss.item()\n",
    "\n",
    "\n",
    "    with torch.no_grad():\n",
    "        model.eval()\n",
    "        test_outputs = model(X_test)\n",
    "        loss = criterion(test_outputs, y_test.view(-1, 1))\n",
    "        model.train()\n",
    "\n",
    "    train_losses.append(epoch_loss / len(X_train))\n",
    "    test_losses.append(loss.item())\n",
    "\n",
    "    print(f'Epoch [{epoch + 1}/{num_epochs}], Training Loss: {train_losses[-1]}, Test Loss: {test_losses[-1]}')\n",
    "\n",
    "print(f\"Train RMSE : {sqrt(train_losses[-1])}, Test RMSE : {sqrt(test_losses[-1])}\")\n",
    "\n",
    "plot_learning_curve(train_losses, test_losses)"
   ]
  },
  {
   "cell_type": "markdown",
   "id": "4b71d4c2",
   "metadata": {},
   "source": [
    "## Testing different learning rate + batch size combinations"
   ]
  },
  {
   "cell_type": "code",
   "execution_count": 26,
   "id": "9424fa81",
   "metadata": {},
   "outputs": [],
   "source": [
    "lr_vals = [0.1, 0.001, 0.2, 0.002, 0.3, 0.003, 0.4, 0.004]\n",
    "batch_vals = [32, 64, 128, 211, 256, 512]\n",
    "res_rmse = {}"
   ]
  },
  {
   "cell_type": "code",
   "execution_count": 28,
   "id": "7b8aa580",
   "metadata": {},
   "outputs": [],
   "source": [
    "input_size = X_train.shape[1]\n",
    "hidden_size = 128\n",
    "output_size = 1  \n",
    "\n",
    "for lr in lr_vals:\n",
    "    for batch in batch_vals:\n",
    "        model = NeuralNetwork(input_size, hidden_size, output_size)\n",
    "        res = train_and_get_losses(lr, batch, model, X_train, X_test, y_train, y_test)\n",
    "        res_rmse[(lr,batch)] = res[1][-1]"
   ]
  },
  {
   "cell_type": "code",
   "execution_count": 30,
   "id": "7de6eb57",
   "metadata": {},
   "outputs": [],
   "source": [
    "for comb in res_rmse:\n",
    "    res_rmse[comb] = sqrt(res_rmse[comb])"
   ]
  },
  {
   "cell_type": "code",
   "execution_count": 32,
   "id": "532afd1c",
   "metadata": {},
   "outputs": [],
   "source": [
    "sorted_dict = dict(sorted(res_rmse.items(), key=lambda item: item[1]))"
   ]
  },
  {
   "cell_type": "code",
   "execution_count": 33,
   "id": "c428d354",
   "metadata": {},
   "outputs": [
    {
     "data": {
      "text/plain": [
       "{(0.004, 32): 3661.9059245152653,\n",
       " (0.002, 32): 3668.066384350207,\n",
       " (0.001, 32): 3669.345309452355,\n",
       " (0.1, 32): 3674.1856240533084,\n",
       " (0.4, 32): 3679.356737257207,\n",
       " (0.2, 32): 3679.964266130855,\n",
       " (0.3, 32): 3688.413615634776,\n",
       " (0.003, 32): 3695.299446594281,\n",
       " (0.002, 64): 3721.2899645149932,\n",
       " (0.003, 64): 3739.222111616265,\n",
       " (0.004, 64): 3739.4598540430943,\n",
       " (0.1, 64): 3743.0721339562774,\n",
       " (0.3, 64): 3743.1792636741297,\n",
       " (0.4, 64): 3746.1737813401023,\n",
       " (0.2, 64): 3750.3058541937617,\n",
       " (0.001, 64): 3752.4312118944968,\n",
       " (0.1, 128): 3972.7842881284155,\n",
       " (0.3, 128): 3986.4845415478535,\n",
       " (0.001, 128): 3986.8656862252083,\n",
       " (0.2, 128): 3989.9437339391143,\n",
       " (0.002, 128): 3990.0556387098163,\n",
       " (0.004, 128): 3995.3310250841546,\n",
       " (0.003, 128): 4014.529735847027,\n",
       " (0.4, 128): 4059.343666160824,\n",
       " (0.001, 256): 4692.576264697251,\n",
       " (0.1, 256): 4707.039196777524,\n",
       " (0.4, 256): 4707.984282046829,\n",
       " (0.004, 256): 4722.7813838881,\n",
       " (0.2, 256): 4727.638734082798,\n",
       " (0.3, 256): 4738.234692372255,\n",
       " (0.003, 256): 4740.795080996436,\n",
       " (0.1, 211): 4752.566464553652,\n",
       " (0.2, 211): 4821.541039958075,\n",
       " (0.001, 211): 4833.738097994139,\n",
       " (0.3, 211): 4838.9250872482,\n",
       " (0.004, 211): 4857.523443072611,\n",
       " (0.003, 211): 4863.463786233017,\n",
       " (0.4, 211): 4909.268173567217,\n",
       " (0.002, 256): 4911.014559131341,\n",
       " (0.002, 211): 5012.256178608592,\n",
       " (0.2, 512): 5972.616177187347,\n",
       " (0.004, 512): 6045.696651338041,\n",
       " (0.001, 512): 6072.646540018611,\n",
       " (0.4, 512): 6111.880234428682,\n",
       " (0.1, 512): 6136.386558879745,\n",
       " (0.3, 512): 6136.764293990767,\n",
       " (0.002, 512): 6150.785640875481,\n",
       " (0.003, 512): 6183.599275502901}"
      ]
     },
     "execution_count": 33,
     "metadata": {},
     "output_type": "execute_result"
    }
   ],
   "source": [
    "sorted_dict"
   ]
  },
  {
   "cell_type": "markdown",
   "id": "9bab636e",
   "metadata": {},
   "source": [
    "## Making predictions"
   ]
  },
  {
   "cell_type": "code",
   "execution_count": null,
   "id": "7114b699",
   "metadata": {},
   "outputs": [],
   "source": [
    "data = transform_raw_input_to_df(\"Opel\", \"Insignia\", \"2.0D\", 2010, 239000, df_mean, sc_mean)\n",
    "with torch.no_grad():\n",
    "    inputs = torch.tensor(data, dtype=torch.float32)\n",
    "    predictions = model.eval(inputs).numpy()"
   ]
  },
  {
   "cell_type": "markdown",
   "id": "e97c9b7b",
   "metadata": {},
   "source": [
    "## Saving weights"
   ]
  },
  {
   "cell_type": "code",
   "execution_count": null,
   "id": "74f1d758",
   "metadata": {},
   "outputs": [],
   "source": [
    "torch.save(model.state_dict, '../weights/model_nonans.0.0.1.pth')"
   ]
  },
  {
   "cell_type": "code",
   "execution_count": null,
   "id": "caffeb50",
   "metadata": {},
   "outputs": [],
   "source": [
    "_"
   ]
  }
 ],
 "metadata": {
  "kernelspec": {
   "display_name": "venv",
   "language": "python",
   "name": "venv"
  },
  "language_info": {
   "codemirror_mode": {
    "name": "ipython",
    "version": 3
   },
   "file_extension": ".py",
   "mimetype": "text/x-python",
   "name": "python",
   "nbconvert_exporter": "python",
   "pygments_lexer": "ipython3",
   "version": "3.11.5"
  }
 },
 "nbformat": 4,
 "nbformat_minor": 5
}
