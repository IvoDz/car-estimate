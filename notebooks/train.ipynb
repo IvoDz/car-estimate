{
 "cells": [
  {
   "cell_type": "code",
   "execution_count": 1,
   "id": "4cd770d0",
   "metadata": {},
   "outputs": [],
   "source": [
    "import pandas as pd\n",
    "import numpy as np\n",
    "from sklearn.model_selection import train_test_split\n",
    "from sklearn.linear_model import LinearRegression\n",
    "from sklearn.metrics import mean_squared_error\n",
    "from sklearn.preprocessing import StandardScaler\n",
    "import torch\n",
    "import torch.nn as nn\n",
    "import joblib\n",
    "import torch.optim as optim\n",
    "from visual_utils import plot_learning_curve"
   ]
  },
  {
   "cell_type": "code",
   "execution_count": 2,
   "id": "24a137b4",
   "metadata": {},
   "outputs": [],
   "source": [
    "df = pd.read_csv(\"data_cleaned_v_2.csv\")\n",
    "scaler = joblib.load(\"scaler_new_v_0_0_2.save\")"
   ]
  },
  {
   "cell_type": "code",
   "execution_count": 33,
   "id": "6992715b",
   "metadata": {},
   "outputs": [
    {
     "name": "stderr",
     "output_type": "stream",
     "text": [
      "/tmp/ipykernel_3217/2546592206.py:12: UserWarning: To copy construct from a tensor, it is recommended to use sourceTensor.clone().detach() or sourceTensor.clone().detach().requires_grad_(True), rather than torch.tensor(sourceTensor).\n",
      "  X_train = torch.tensor(X_train, dtype=torch.float32)\n",
      "/tmp/ipykernel_3217/2546592206.py:13: UserWarning: To copy construct from a tensor, it is recommended to use sourceTensor.clone().detach() or sourceTensor.clone().detach().requires_grad_(True), rather than torch.tensor(sourceTensor).\n",
      "  X_test = torch.tensor(X_test, dtype=torch.float32)\n"
     ]
    }
   ],
   "source": [
    "bool_columns = df.select_dtypes(include='bool').columns\n",
    "df[bool_columns] = df[bool_columns].astype(int)\n",
    "\n",
    "X = df.drop('price', axis=1).values \n",
    "y = df['price'].values\n",
    "\n",
    "X = torch.tensor(X, dtype=torch.float32)\n",
    "y = torch.tensor(y, dtype=torch.float32)\n",
    "\n",
    "X_train, X_test, y_train, y_test = train_test_split(X, y, test_size=0.2, random_state=42)\n",
    "\n",
    "X_train = torch.tensor(X_train, dtype=torch.float32)\n",
    "X_test = torch.tensor(X_test, dtype=torch.float32)\n",
    "\n",
    "class NeuralNetwork(nn.Module):\n",
    "    def __init__(self, input_size, hidden_size, output_size):\n",
    "        super(NeuralNetwork, self).__init__()\n",
    "        self.fc1 = nn.Linear(input_size, hidden_size)\n",
    "        self.relu1 = nn.ReLU()\n",
    "        self.fc2 = nn.Linear(hidden_size, hidden_size)\n",
    "        self.relu2 = nn.ReLU()\n",
    "        self.fc3 = nn.Linear(hidden_size, output_size)\n",
    "        \n",
    "    def forward(self, x):\n",
    "        x = self.fc1(x)\n",
    "        x = self.relu1(x)\n",
    "        x = self.fc2(x)\n",
    "        x = self.relu2(x)\n",
    "        x = self.fc3(x)\n",
    "        return x\n",
    "\n",
    "input_size = X_train.shape[1]\n",
    "hidden_size = 128\n",
    "output_size = 1  \n",
    "\n",
    "# Create the model\n",
    "model = NeuralNetwork(input_size, hidden_size, output_size)\n",
    "\n",
    "criterion = nn.MSELoss() \n",
    "optimizer = optim.Adam(model.parameters(), lr=0.001) \n",
    "num_epochs = 100\n",
    "batch_size = int(0.01 * len(df_nonans))  # Set the batch size\n",
    "train_losses = []  # List to store training losses\n",
    "test_losses = []   # List to store test losses"
   ]
  },
  {
   "cell_type": "code",
   "execution_count": 34,
   "id": "25450533",
   "metadata": {},
   "outputs": [
    {
     "name": "stdout",
     "output_type": "stream",
     "text": [
      "Epoch [1/100], Training Loss: 1377886.5338230068, Test Loss: 14636.6904296875\n",
      "Epoch [2/100], Training Loss: 1247594.4120364885, Test Loss: 14634.2978515625\n",
      "Epoch [3/100], Training Loss: 1247224.6454211585, Test Loss: 14630.4697265625\n",
      "Epoch [4/100], Training Loss: 1246779.5943608577, Test Loss: 14626.1279296875\n",
      "Epoch [5/100], Training Loss: 1246214.3580144532, Test Loss: 14620.2919921875\n",
      "Epoch [6/100], Training Loss: 1245527.2181021206, Test Loss: 14614.6572265625\n",
      "Epoch [7/100], Training Loss: 1244576.6539509536, Test Loss: 14606.1396484375\n",
      "Epoch [8/100], Training Loss: 1243287.2285274256, Test Loss: 14594.578125\n",
      "Epoch [9/100], Training Loss: 1241445.0600639735, Test Loss: 14577.46875\n",
      "Epoch [10/100], Training Loss: 1238665.2609880345, Test Loss: 14554.46484375\n",
      "Epoch [11/100], Training Loss: 1233729.4439047505, Test Loss: 14510.6328125\n",
      "Epoch [12/100], Training Loss: 1223960.8079611422, Test Loss: 14431.4150390625\n",
      "Epoch [13/100], Training Loss: 1201059.3607392488, Test Loss: 14219.5625\n",
      "Epoch [14/100], Training Loss: 1148227.9748844923, Test Loss: 13863.2119140625\n",
      "Epoch [15/100], Training Loss: 1056887.727520436, Test Loss: 13228.658203125\n",
      "Epoch [16/100], Training Loss: 918140.8790427675, Test Loss: 12341.7001953125\n",
      "Epoch [17/100], Training Loss: 742286.0701338704, Test Loss: 10475.4853515625\n",
      "Epoch [18/100], Training Loss: 599802.933775619, Test Loss: 9436.6181640625\n",
      "Epoch [19/100], Training Loss: 508905.88212297123, Test Loss: 8732.80859375\n",
      "Epoch [20/100], Training Loss: 451879.7212415591, Test Loss: 8597.19140625\n",
      "Epoch [21/100], Training Loss: 417980.7021087549, Test Loss: 8200.052734375\n",
      "Epoch [22/100], Training Loss: 403091.5239308139, Test Loss: 9125.431640625\n",
      "Epoch [23/100], Training Loss: 388951.67403151287, Test Loss: 8426.48828125\n",
      "Epoch [24/100], Training Loss: 367936.39817557164, Test Loss: 8336.9169921875\n",
      "Epoch [25/100], Training Loss: 355222.1533586068, Test Loss: 7885.15625\n",
      "Epoch [26/100], Training Loss: 343021.83124037436, Test Loss: 7694.46630859375\n",
      "Epoch [27/100], Training Loss: 333815.89379220473, Test Loss: 7651.6689453125\n",
      "Epoch [28/100], Training Loss: 326265.1111242744, Test Loss: 7440.72509765625\n",
      "Epoch [29/100], Training Loss: 317843.5306243336, Test Loss: 7343.3291015625\n",
      "Epoch [30/100], Training Loss: 311259.6422224855, Test Loss: 7293.60400390625\n",
      "Epoch [31/100], Training Loss: 305661.9317024049, Test Loss: 7194.17431640625\n",
      "Epoch [32/100], Training Loss: 299181.60010662244, Test Loss: 7140.76513671875\n",
      "Epoch [33/100], Training Loss: 293838.68214666506, Test Loss: 7110.05859375\n",
      "Epoch [34/100], Training Loss: 288904.02795877267, Test Loss: 7059.39306640625\n",
      "Epoch [35/100], Training Loss: 285097.7351617107, Test Loss: 7213.22412109375\n",
      "Epoch [36/100], Training Loss: 280704.40569837694, Test Loss: 6988.82568359375\n",
      "Epoch [37/100], Training Loss: 276743.9343087312, Test Loss: 6873.7919921875\n",
      "Epoch [38/100], Training Loss: 272887.78752517473, Test Loss: 6910.8271484375\n",
      "Epoch [39/100], Training Loss: 268346.5453145362, Test Loss: 6773.3662109375\n",
      "Epoch [40/100], Training Loss: 264688.9513090866, Test Loss: 6702.3369140625\n",
      "Epoch [41/100], Training Loss: 261177.1804880938, Test Loss: 6680.412109375\n",
      "Epoch [42/100], Training Loss: 259206.37264542116, Test Loss: 6678.01953125\n",
      "Epoch [43/100], Training Loss: 256264.17687477788, Test Loss: 6544.95556640625\n",
      "Epoch [44/100], Training Loss: 252559.49378035776, Test Loss: 6481.16943359375\n",
      "Epoch [45/100], Training Loss: 248624.30452553014, Test Loss: 6462.81494140625\n",
      "Epoch [46/100], Training Loss: 245764.09181376614, Test Loss: 6473.5380859375\n",
      "Epoch [47/100], Training Loss: 244115.83532756782, Test Loss: 6454.2705078125\n",
      "Epoch [48/100], Training Loss: 242056.4770761758, Test Loss: 6442.51904296875\n",
      "Epoch [49/100], Training Loss: 237520.35869565216, Test Loss: 6290.85595703125\n",
      "Epoch [50/100], Training Loss: 234363.06107096316, Test Loss: 6235.94580078125\n",
      "Epoch [51/100], Training Loss: 232610.84803340837, Test Loss: 6187.669921875\n",
      "Epoch [52/100], Training Loss: 230183.92832602773, Test Loss: 6180.65478515625\n",
      "Epoch [53/100], Training Loss: 226669.29564032698, Test Loss: 6136.9306640625\n",
      "Epoch [54/100], Training Loss: 226089.29359673025, Test Loss: 6152.1591796875\n",
      "Epoch [55/100], Training Loss: 225568.76258737117, Test Loss: 6082.5361328125\n",
      "Epoch [56/100], Training Loss: 221522.23448051178, Test Loss: 6024.7685546875\n",
      "Epoch [57/100], Training Loss: 220322.88455159342, Test Loss: 5990.783203125\n",
      "Epoch [58/100], Training Loss: 218250.48836038384, Test Loss: 5993.78125\n",
      "Epoch [59/100], Training Loss: 216691.6795403388, Test Loss: 6010.44775390625\n",
      "Epoch [60/100], Training Loss: 214489.65629072385, Test Loss: 5993.87890625\n",
      "Epoch [61/100], Training Loss: 212967.59187300084, Test Loss: 5943.990234375\n",
      "Epoch [62/100], Training Loss: 211063.5812699917, Test Loss: 5870.93798828125\n",
      "Epoch [63/100], Training Loss: 209909.65223314773, Test Loss: 5772.1123046875\n",
      "Epoch [64/100], Training Loss: 207074.80020139794, Test Loss: 5930.93701171875\n",
      "Epoch [65/100], Training Loss: 205152.05224499467, Test Loss: 5929.873046875\n",
      "Epoch [66/100], Training Loss: 200663.72683923706, Test Loss: 5784.55126953125\n",
      "Epoch [67/100], Training Loss: 202595.1443845516, Test Loss: 5748.037109375\n",
      "Epoch [68/100], Training Loss: 201748.20438929036, Test Loss: 6528.2177734375\n",
      "Epoch [69/100], Training Loss: 202692.26877739604, Test Loss: 5732.833984375\n",
      "Epoch [70/100], Training Loss: 197773.24084824073, Test Loss: 5589.2138671875\n",
      "Epoch [71/100], Training Loss: 196864.9269636299, Test Loss: 5619.36181640625\n",
      "Epoch [72/100], Training Loss: 195603.0474766023, Test Loss: 5636.85546875\n",
      "Epoch [73/100], Training Loss: 193227.91923350314, Test Loss: 5691.5576171875\n",
      "Epoch [74/100], Training Loss: 188780.96170477432, Test Loss: 5693.67724609375\n",
      "Epoch [75/100], Training Loss: 190819.90247008647, Test Loss: 5502.7509765625\n",
      "Epoch [76/100], Training Loss: 192784.56486198318, Test Loss: 5963.5380859375\n",
      "Epoch [77/100], Training Loss: 196112.55070489278, Test Loss: 5534.9775390625\n",
      "Epoch [78/100], Training Loss: 186906.0066046677, Test Loss: 5533.8896484375\n",
      "Epoch [79/100], Training Loss: 185940.50245823956, Test Loss: 5550.939453125\n",
      "Epoch [80/100], Training Loss: 193021.71442956995, Test Loss: 5296.5341796875\n",
      "Epoch [81/100], Training Loss: 183555.41105911622, Test Loss: 5647.57861328125\n",
      "Epoch [82/100], Training Loss: 180243.31693519725, Test Loss: 5450.36767578125\n",
      "Epoch [83/100], Training Loss: 179824.43327212415, Test Loss: 5409.18505859375\n",
      "Epoch [84/100], Training Loss: 181094.30710223908, Test Loss: 5335.13623046875\n",
      "Epoch [85/100], Training Loss: 176466.59788532165, Test Loss: 5591.2998046875\n",
      "Epoch [86/100], Training Loss: 177184.89476957708, Test Loss: 5511.123046875\n",
      "Epoch [87/100], Training Loss: 175277.5309501244, Test Loss: 5499.443359375\n",
      "Epoch [88/100], Training Loss: 173020.60949532047, Test Loss: 5497.541015625\n",
      "Epoch [89/100], Training Loss: 172510.28752517473, Test Loss: 5596.3212890625\n",
      "Epoch [90/100], Training Loss: 174274.62285274256, Test Loss: 5304.47998046875\n",
      "Epoch [91/100], Training Loss: 172543.9478734747, Test Loss: 5306.5791015625\n",
      "Epoch [92/100], Training Loss: 169971.54925364294, Test Loss: 5376.8935546875\n",
      "Epoch [93/100], Training Loss: 172346.21004620305, Test Loss: 5280.97802734375\n",
      "Epoch [94/100], Training Loss: 168586.0078189788, Test Loss: 5375.54638671875\n",
      "Epoch [95/100], Training Loss: 166706.68362753227, Test Loss: 5370.4462890625\n",
      "Epoch [96/100], Training Loss: 163795.12154957943, Test Loss: 5192.20166015625\n",
      "Epoch [97/100], Training Loss: 165398.0182739012, Test Loss: 5300.59423828125\n",
      "Epoch [98/100], Training Loss: 165621.68516763416, Test Loss: 5240.85595703125\n",
      "Epoch [99/100], Training Loss: 164889.10253524463, Test Loss: 5256.86376953125\n",
      "Epoch [100/100], Training Loss: 162247.34877384195, Test Loss: 5247.40771484375\n"
     ]
    },
    {
     "data": {
      "image/png": "[encoded data removed]",
      "text/plain": [
       "<Figure size 800x600 with 1 Axes>"
      ]
     },
     "metadata": {},
     "output_type": "display_data"
    }
   ],
   "source": [
    "for epoch in range(num_epochs):\n",
    "    epoch_loss = 0.0\n",
    "    for i in range(0, len(X_train), batch_size):\n",
    "        batch_X = X_train[i:i+batch_size]\n",
    "        batch_y = y_train[i:i+batch_size]\n",
    "\n",
    "        optimizer.zero_grad()  # Zero the gradients\n",
    "        outputs = model(batch_X)  # Forward pass\n",
    "        loss = (criterion(outputs, batch_y.view(-1, 1)))  # Calculate the loss\n",
    "\n",
    "        loss.backward()  # Backward pass\n",
    "        optimizer.step()  # Update weights\n",
    "\n",
    "        epoch_loss += loss.item()\n",
    "\n",
    "    # Calculate test loss\n",
    "    with torch.no_grad():\n",
    "        model.eval()\n",
    "        test_outputs = model(X_test)\n",
    "        test_loss = (criterion(test_outputs, y_test.view(-1, 1)))\n",
    "        rmse = torch.sqrt(test_loss) \n",
    "        model.train()\n",
    "\n",
    "    # Append losses to lists\n",
    "    train_losses.append(epoch_loss / len(X_train))\n",
    "    test_losses.append(rmse.item())\n",
    "\n",
    "    # Print the average loss for the epoch\n",
    "    print(f'Epoch [{epoch + 1}/{num_epochs}], Training Loss: {train_losses[-1]}, Test Loss: {test_losses[-1]}')\n",
    "# After training, you can use the lists to plot the learning curve\n",
    "plot_learning_curve(train_losses, test_losses)"
   ]
  },
  {
   "cell_type": "code",
   "execution_count": 15,
   "id": "7114b699",
   "metadata": {},
   "outputs": [
    {
     "ename": "NameError",
     "evalue": "name 'model' is not defined",
     "output_type": "error",
     "traceback": [
      "\u001b[0;31m---------------------------------------------------------------------------\u001b[0m",
      "\u001b[0;31mNameError\u001b[0m                                 Traceback (most recent call last)",
      "Cell \u001b[0;32mIn[15], line 4\u001b[0m\n\u001b[1;32m      2\u001b[0m \u001b[38;5;28;01mwith\u001b[39;00m torch\u001b[38;5;241m.\u001b[39mno_grad():\n\u001b[1;32m      3\u001b[0m     inputs \u001b[38;5;241m=\u001b[39m torch\u001b[38;5;241m.\u001b[39mtensor(data, dtype\u001b[38;5;241m=\u001b[39mtorch\u001b[38;5;241m.\u001b[39mfloat32)\n\u001b[0;32m----> 4\u001b[0m     predictions \u001b[38;5;241m=\u001b[39m model\u001b[38;5;241m.\u001b[39meval(inputs)\u001b[38;5;241m.\u001b[39mnumpy()\n",
      "\u001b[0;31mNameError\u001b[0m: name 'model' is not defined"
     ]
    }
   ],
   "source": [
    "data = transform_raw_input_to_df(\"Opel\", \"Insignia\", \"2.0D\", 2010, 239000, df_mean, sc_mean)\n",
    "with torch.no_grad():\n",
    "    inputs = torch.tensor(data, dtype=torch.float32)\n",
    "    predictions = model.eval(inputs).numpy()"
   ]
  },
  {
   "cell_type": "code",
   "execution_count": 30,
   "id": "74f1d758",
   "metadata": {},
   "outputs": [],
   "source": [
    "torch.save(model.state_dict, 'model_nonans.0.0.1.pth')"
   ]
  },
  {
   "cell_type": "code",
   "execution_count": null,
   "id": "caffeb50",
   "metadata": {},
   "outputs": [],
   "source": [
    "_"
   ]
  }
 ],
 "metadata": {
  "kernelspec": {
   "display_name": "venv",
   "language": "python",
   "name": "venv"
  },
  "language_info": {
   "codemirror_mode": {
    "name": "ipython",
    "version": 3
   },
   "file_extension": ".py",
   "mimetype": "text/x-python",
   "name": "python",
   "nbconvert_exporter": "python",
   "pygments_lexer": "ipython3",
   "version": "3.11.5"
  }
 },
 "nbformat": 4,
 "nbformat_minor": 5
}
